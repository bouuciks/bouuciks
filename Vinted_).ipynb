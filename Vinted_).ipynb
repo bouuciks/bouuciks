{
 "cells": [
  {
   "cell_type": "code",
   "execution_count": 1,
   "metadata": {},
   "outputs": [
    {
     "data": {
      "text/plain": [
       "'C:\\\\Users\\\\ramis969'"
      ]
     },
     "execution_count": 1,
     "metadata": {},
     "output_type": "execute_result"
    }
   ],
   "source": [
    "%pwd\n"
   ]
  },
  {
   "cell_type": "code",
   "execution_count": 2,
   "metadata": {},
   "outputs": [],
   "source": [
    "import pandas as pd"
   ]
  },
  {
   "cell_type": "code",
   "execution_count": 17,
   "metadata": {},
   "outputs": [
    {
     "data": {
      "text/html": [
       "<div>\n",
       "<style scoped>\n",
       "    .dataframe tbody tr th:only-of-type {\n",
       "        vertical-align: middle;\n",
       "    }\n",
       "\n",
       "    .dataframe tbody tr th {\n",
       "        vertical-align: top;\n",
       "    }\n",
       "\n",
       "    .dataframe thead th {\n",
       "        text-align: right;\n",
       "    }\n",
       "</style>\n",
       "<table border=\"1\" class=\"dataframe\">\n",
       "  <thead>\n",
       "    <tr style=\"text-align: right;\">\n",
       "      <th></th>\n",
       "      <th>tracking_code</th>\n",
       "      <th>from_country</th>\n",
       "      <th>to_country</th>\n",
       "      <th>package_type_id</th>\n",
       "      <th>transaction_id</th>\n",
       "      <th>shipping_label_created</th>\n",
       "      <th>product_invoices.user_invoice_date</th>\n",
       "      <th>product_initiated_payments.transaction_processed_at</th>\n",
       "      <th>product_package_types.description</th>\n",
       "      <th>provider_invoices.amount</th>\n",
       "      <th>provider_prices.actual_package_size</th>\n",
       "      <th>Time_between_payment_andinvoice_indays</th>\n",
       "      <th>Unnamed: 12</th>\n",
       "    </tr>\n",
       "  </thead>\n",
       "  <tbody>\n",
       "    <tr>\n",
       "      <td>0</td>\n",
       "      <td>31908336</td>\n",
       "      <td>FR</td>\n",
       "      <td>FR</td>\n",
       "      <td>10</td>\n",
       "      <td>193717093</td>\n",
       "      <td>31/10/2018 09:08:41</td>\n",
       "      <td>14/11/2018</td>\n",
       "      <td>31/10/2018 08:10:21</td>\n",
       "      <td>0.5kg</td>\n",
       "      <td>2.90</td>\n",
       "      <td>0.5 kg</td>\n",
       "      <td>13.659479</td>\n",
       "      <td>NaN</td>\n",
       "    </tr>\n",
       "    <tr>\n",
       "      <td>1</td>\n",
       "      <td>17669577</td>\n",
       "      <td>FR</td>\n",
       "      <td>FR</td>\n",
       "      <td>12</td>\n",
       "      <td>70130232</td>\n",
       "      <td>31/10/2017 15:34:46</td>\n",
       "      <td>13/11/2017</td>\n",
       "      <td>31/10/2017 12:59:30</td>\n",
       "      <td>2kg</td>\n",
       "      <td>3.23</td>\n",
       "      <td>1 kg</td>\n",
       "      <td>12.458681</td>\n",
       "      <td>NaN</td>\n",
       "    </tr>\n",
       "    <tr>\n",
       "      <td>2</td>\n",
       "      <td>27808800</td>\n",
       "      <td>FR</td>\n",
       "      <td>FR</td>\n",
       "      <td>10</td>\n",
       "      <td>155012601</td>\n",
       "      <td>31/08/2018 21:27:56</td>\n",
       "      <td>17/09/2018</td>\n",
       "      <td>31/08/2018 21:23:52</td>\n",
       "      <td>0.5kg</td>\n",
       "      <td>2.90</td>\n",
       "      <td>0.5 kg</td>\n",
       "      <td>16.108426</td>\n",
       "      <td>NaN</td>\n",
       "    </tr>\n",
       "    <tr>\n",
       "      <td>3</td>\n",
       "      <td>27814426</td>\n",
       "      <td>FR</td>\n",
       "      <td>FR</td>\n",
       "      <td>10</td>\n",
       "      <td>160014460</td>\n",
       "      <td>01/09/2018 07:09:31</td>\n",
       "      <td>11/09/2018</td>\n",
       "      <td>31/08/2018 12:39:53</td>\n",
       "      <td>0.5kg</td>\n",
       "      <td>2.90</td>\n",
       "      <td>0.5 kg</td>\n",
       "      <td>10.472303</td>\n",
       "      <td>NaN</td>\n",
       "    </tr>\n",
       "    <tr>\n",
       "      <td>4</td>\n",
       "      <td>27771400</td>\n",
       "      <td>FR</td>\n",
       "      <td>FR</td>\n",
       "      <td>10</td>\n",
       "      <td>159925565</td>\n",
       "      <td>31/08/2018 09:39:11</td>\n",
       "      <td>06/09/2018</td>\n",
       "      <td>31/08/2018 09:00:12</td>\n",
       "      <td>0.5kg</td>\n",
       "      <td>2.90</td>\n",
       "      <td>0.5 kg</td>\n",
       "      <td>5.624861</td>\n",
       "      <td>NaN</td>\n",
       "    </tr>\n",
       "    <tr>\n",
       "      <td>...</td>\n",
       "      <td>...</td>\n",
       "      <td>...</td>\n",
       "      <td>...</td>\n",
       "      <td>...</td>\n",
       "      <td>...</td>\n",
       "      <td>...</td>\n",
       "      <td>...</td>\n",
       "      <td>...</td>\n",
       "      <td>...</td>\n",
       "      <td>...</td>\n",
       "      <td>...</td>\n",
       "      <td>...</td>\n",
       "      <td>...</td>\n",
       "    </tr>\n",
       "    <tr>\n",
       "      <td>526</td>\n",
       "      <td>39506634</td>\n",
       "      <td>FR</td>\n",
       "      <td>FR</td>\n",
       "      <td>10</td>\n",
       "      <td>253631750</td>\n",
       "      <td>02/02/2019 01:06:59</td>\n",
       "      <td>10/02/2019</td>\n",
       "      <td>01/02/2019 21:30:21</td>\n",
       "      <td>0.5kg</td>\n",
       "      <td>2.90</td>\n",
       "      <td>0.5 kg</td>\n",
       "      <td>8.103924</td>\n",
       "      <td>NaN</td>\n",
       "    </tr>\n",
       "    <tr>\n",
       "      <td>527</td>\n",
       "      <td>39455699</td>\n",
       "      <td>FR</td>\n",
       "      <td>FR</td>\n",
       "      <td>11</td>\n",
       "      <td>253267744</td>\n",
       "      <td>01/02/2019 12:30:22</td>\n",
       "      <td>08/02/2019</td>\n",
       "      <td>01/02/2019 12:27:09</td>\n",
       "      <td>1kg</td>\n",
       "      <td>3.65</td>\n",
       "      <td>2 kg</td>\n",
       "      <td>6.481146</td>\n",
       "      <td>NaN</td>\n",
       "    </tr>\n",
       "    <tr>\n",
       "      <td>528</td>\n",
       "      <td>36778355</td>\n",
       "      <td>FR</td>\n",
       "      <td>FR</td>\n",
       "      <td>10</td>\n",
       "      <td>232492350</td>\n",
       "      <td>01/01/2019 20:56:18</td>\n",
       "      <td>11/01/2019</td>\n",
       "      <td>01/01/2019 19:47:52</td>\n",
       "      <td>0.5kg</td>\n",
       "      <td>2.90</td>\n",
       "      <td>0.5 kg</td>\n",
       "      <td>9.175093</td>\n",
       "      <td>NaN</td>\n",
       "    </tr>\n",
       "    <tr>\n",
       "      <td>529</td>\n",
       "      <td>36782294</td>\n",
       "      <td>FR</td>\n",
       "      <td>FR</td>\n",
       "      <td>10</td>\n",
       "      <td>232301120</td>\n",
       "      <td>01/01/2019 22:02:07</td>\n",
       "      <td>08/01/2019</td>\n",
       "      <td>01/01/2019 16:22:36</td>\n",
       "      <td>0.5kg</td>\n",
       "      <td>2.90</td>\n",
       "      <td>0.5 kg</td>\n",
       "      <td>6.317639</td>\n",
       "      <td>NaN</td>\n",
       "    </tr>\n",
       "    <tr>\n",
       "      <td>530</td>\n",
       "      <td>36774130</td>\n",
       "      <td>FR</td>\n",
       "      <td>FR</td>\n",
       "      <td>11</td>\n",
       "      <td>230644855</td>\n",
       "      <td>01/01/2019 20:02:45</td>\n",
       "      <td>14/01/2019</td>\n",
       "      <td>01/01/2019 15:38:30</td>\n",
       "      <td>1kg</td>\n",
       "      <td>3.23</td>\n",
       "      <td>1 kg</td>\n",
       "      <td>12.348264</td>\n",
       "      <td>NaN</td>\n",
       "    </tr>\n",
       "  </tbody>\n",
       "</table>\n",
       "<p>531 rows × 13 columns</p>\n",
       "</div>"
      ],
      "text/plain": [
       "     tracking_code from_country to_country  package_type_id  transaction_id  \\\n",
       "0         31908336           FR         FR               10       193717093   \n",
       "1         17669577           FR         FR               12        70130232   \n",
       "2         27808800           FR         FR               10       155012601   \n",
       "3         27814426           FR         FR               10       160014460   \n",
       "4         27771400           FR         FR               10       159925565   \n",
       "..             ...          ...        ...              ...             ...   \n",
       "526       39506634           FR         FR               10       253631750   \n",
       "527       39455699           FR         FR               11       253267744   \n",
       "528       36778355           FR         FR               10       232492350   \n",
       "529       36782294           FR         FR               10       232301120   \n",
       "530       36774130           FR         FR               11       230644855   \n",
       "\n",
       "    shipping_label_created product_invoices.user_invoice_date  \\\n",
       "0      31/10/2018 09:08:41                         14/11/2018   \n",
       "1      31/10/2017 15:34:46                         13/11/2017   \n",
       "2      31/08/2018 21:27:56                         17/09/2018   \n",
       "3      01/09/2018 07:09:31                         11/09/2018   \n",
       "4      31/08/2018 09:39:11                         06/09/2018   \n",
       "..                     ...                                ...   \n",
       "526    02/02/2019 01:06:59                         10/02/2019   \n",
       "527    01/02/2019 12:30:22                         08/02/2019   \n",
       "528    01/01/2019 20:56:18                         11/01/2019   \n",
       "529    01/01/2019 22:02:07                         08/01/2019   \n",
       "530    01/01/2019 20:02:45                         14/01/2019   \n",
       "\n",
       "    product_initiated_payments.transaction_processed_at  \\\n",
       "0                                  31/10/2018 08:10:21    \n",
       "1                                  31/10/2017 12:59:30    \n",
       "2                                  31/08/2018 21:23:52    \n",
       "3                                  31/08/2018 12:39:53    \n",
       "4                                  31/08/2018 09:00:12    \n",
       "..                                                 ...    \n",
       "526                                01/02/2019 21:30:21    \n",
       "527                                01/02/2019 12:27:09    \n",
       "528                                01/01/2019 19:47:52    \n",
       "529                                01/01/2019 16:22:36    \n",
       "530                                01/01/2019 15:38:30    \n",
       "\n",
       "    product_package_types.description  provider_invoices.amount  \\\n",
       "0                               0.5kg                      2.90   \n",
       "1                                 2kg                      3.23   \n",
       "2                               0.5kg                      2.90   \n",
       "3                               0.5kg                      2.90   \n",
       "4                               0.5kg                      2.90   \n",
       "..                                ...                       ...   \n",
       "526                             0.5kg                      2.90   \n",
       "527                               1kg                      3.65   \n",
       "528                             0.5kg                      2.90   \n",
       "529                             0.5kg                      2.90   \n",
       "530                               1kg                      3.23   \n",
       "\n",
       "    provider_prices.actual_package_size  \\\n",
       "0                                0.5 kg   \n",
       "1                                  1 kg   \n",
       "2                                0.5 kg   \n",
       "3                                0.5 kg   \n",
       "4                                0.5 kg   \n",
       "..                                  ...   \n",
       "526                              0.5 kg   \n",
       "527                                2 kg   \n",
       "528                              0.5 kg   \n",
       "529                              0.5 kg   \n",
       "530                                1 kg   \n",
       "\n",
       "     Time_between_payment_andinvoice_indays  Unnamed: 12  \n",
       "0                                 13.659479          NaN  \n",
       "1                                 12.458681          NaN  \n",
       "2                                 16.108426          NaN  \n",
       "3                                 10.472303          NaN  \n",
       "4                                  5.624861          NaN  \n",
       "..                                      ...          ...  \n",
       "526                                8.103924          NaN  \n",
       "527                                6.481146          NaN  \n",
       "528                                9.175093          NaN  \n",
       "529                                6.317639          NaN  \n",
       "530                               12.348264          NaN  \n",
       "\n",
       "[531 rows x 13 columns]"
      ]
     },
     "execution_count": 17,
     "metadata": {},
     "output_type": "execute_result"
    }
   ],
   "source": [
    "info=pd.read_excel('Laurynui.xlsx')\n",
    "info\n",
    "\n",
    "#Duomenų setą sukūriau naudodamas PowerBI SQL pagrįsta QUERY editorių, joininau lenteles naudodamas unique key - transaction ID\n",
    "#Tikrajį package svorį sužinojau joinindamas lentelę naudodamas provider.invoices_amount vertę\n",
    "#Teko išmesti lauk vertes kur buvo null values, nes nebūtų galima apskaičiuoti tiksliai datos tarp invoice ir transaction, o naudoti vidurkius nebūtų logiška, nes data nėra lygu skaičiui.\n",
    "#Transaction_ID ir Tracking_Code turi būti unikalūs, taip pat sukūriau nauja stulpelį kuriame apskaičiuojama\n",
    "#periodas tarp transakcijos ir sąskaitos išrašymo.\n",
    "#apacioje screenshot query ataskaitos is powerbi\n",
    "#https://ibb.co/7tyHmcC <- vykdyti queriai"
   ]
  },
  {
   "cell_type": "code",
   "execution_count": 10,
   "metadata": {},
   "outputs": [],
   "source": [
    "info=info.drop('Unnamed: 12',axis=1)"
   ]
  },
  {
   "cell_type": "code",
   "execution_count": 26,
   "metadata": {},
   "outputs": [
    {
     "data": {
      "text/plain": [
       "8.159797268431486"
      ]
     },
     "execution_count": 26,
     "metadata": {},
     "output_type": "execute_result"
    }
   ],
   "source": [
    "#paziurim kiek vidutiniskai, daugiausiai ir maziausiai truko periodas tarp transakciju ir saskaitu israsymo\n",
    "info['Time_between_payment_andinvoice_indays'].mean()"
   ]
  },
  {
   "cell_type": "code",
   "execution_count": 24,
   "metadata": {},
   "outputs": [
    {
     "data": {
      "text/plain": [
       "119.48652777777897"
      ]
     },
     "execution_count": 24,
     "metadata": {},
     "output_type": "execute_result"
    }
   ],
   "source": [
    "info['Time_between_payment_andinvoice_indays'].max()"
   ]
  },
  {
   "cell_type": "code",
   "execution_count": 25,
   "metadata": {},
   "outputs": [
    {
     "data": {
      "text/plain": [
       "0.14885416666948004"
      ]
     },
     "execution_count": 25,
     "metadata": {},
     "output_type": "execute_result"
    }
   ],
   "source": [
    "info['Time_between_payment_andinvoice_indays'].min()"
   ]
  },
  {
   "cell_type": "code",
   "execution_count": 33,
   "metadata": {},
   "outputs": [
    {
     "data": {
      "text/plain": [
       "FR    526\n",
       "BE      5\n",
       "Name: from_country, dtype: int64"
      ]
     },
     "execution_count": 33,
     "metadata": {},
     "output_type": "execute_result"
    }
   ],
   "source": [
    "#Nors ir naudoju subseta del mazo CPU mano PC (i5), bet subsetas aiskiai parodo, kad populiariausia valstybe FR, poto BE\n",
    "info['from_country'].value_counts()"
   ]
  },
  {
   "cell_type": "code",
   "execution_count": 34,
   "metadata": {},
   "outputs": [
    {
     "data": {
      "text/plain": [
       "FR    526\n",
       "BE      4\n",
       "ES      1\n",
       "Name: to_country, dtype: int64"
      ]
     },
     "execution_count": 34,
     "metadata": {},
     "output_type": "execute_result"
    }
   ],
   "source": [
    "info['to_country'].value_counts()"
   ]
  },
  {
   "cell_type": "code",
   "execution_count": 39,
   "metadata": {},
   "outputs": [
    {
     "data": {
      "text/plain": [
       "0.5 kg    306\n",
       "1 kg      140\n",
       "2 kg       76\n",
       "3 kg        8\n",
       "5 kg        1\n",
       "Name: provider_prices.actual_package_size, dtype: int64"
      ]
     },
     "execution_count": 39,
     "metadata": {},
     "output_type": "execute_result"
    }
   ],
   "source": [
    "#matom, kad populiaurisi mazi siuntinukai - 0.5kg\n",
    "info['provider_prices.actual_package_size'].value_counts()\n"
   ]
  },
  {
   "cell_type": "code",
   "execution_count": null,
   "metadata": {},
   "outputs": [],
   "source": []
  }
 ],
 "metadata": {
  "kernelspec": {
   "display_name": "Python 3",
   "language": "python",
   "name": "python3"
  },
  "language_info": {
   "codemirror_mode": {
    "name": "ipython",
    "version": 3
   },
   "file_extension": ".py",
   "mimetype": "text/x-python",
   "name": "python",
   "nbconvert_exporter": "python",
   "pygments_lexer": "ipython3",
   "version": "3.7.4"
  }
 },
 "nbformat": 4,
 "nbformat_minor": 2
}
